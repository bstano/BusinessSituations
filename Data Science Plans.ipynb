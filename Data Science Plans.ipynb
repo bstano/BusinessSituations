{
 "cells": [
  {
   "cell_type": "markdown",
   "metadata": {},
   "source": [
    "## Mockup Data Science Plans\n",
    "\n",
    "I will analyze four different situations and see how the application of data science can be used to solve them."
   ]
  },
  {
   "cell_type": "markdown",
   "metadata": {},
   "source": [
    "## Advertising\n",
    "\n",
    "You work at an e-commerce company that sells three goods: widgets, doodads, and fizzbangs. \n",
    "The head of advertising asks you which they should feature in their new advertising campaign. \n",
    "You have data on individual visitors' sessions (activity on a website, pageviews, and purchases), as well as whether or not those users converted from an advertisement for that session. \n",
    "You also have the cost and price information for the goods.\n",
    "\n",
    "#### Solution\n",
    "\n",
    "The first thing to do here would be to interperet the data, which there are many ways to do.\n",
    "\n",
    "I might want to play it safe, and try to make an ad more likely to be successful. \n",
    "I would see how much money is made from purchases self-reported to be advertising converstions to see what ads have been successful in the past and what product most beneifts from advertising.\n",
    "From there I could look and see which products have the most sales from adverstising and make and ad for that.\n",
    "I could also see when advertising sales have boomed and line that up with a past ad and try to emulate.\n",
    "Of course, thats just if I want to play it safe.\n",
    "\n",
    "I might want to make an ad that would convert those thinking about the product but for whatever reason, unmotivated to buy.\n",
    "I could look at pageviews and purchases and see how many people lingered on the page for more than a few moments, but did not buy.\n",
    "I could see which product had the most of these such cases, and see if I could make an ad elaborating the product's benfits, or dispeling common misconceptions about the product.\n",
    "I could also see which product had the most pageviews per non-purchase, to see if any product was particularly more prone to having a conversion sale."
   ]
  },
  {
   "cell_type": "markdown",
   "metadata": {},
   "source": [
    "## Design Optimization I\n",
    "\n",
    "You work at a web design company that offers to build websites for clients. \n",
    "Signups have slowed, and you are tasked with finding out why. \n",
    "The onboarding funnel has three steps: email and password signup, plan choice, and payment. \n",
    "On a user level you have information on what steps they have completed as well as timestamps for all of those events for the past 3 years. \n",
    "You also have information on marketing spend on a weekly level.\n",
    "\n",
    "#### Solution\n",
    "\n",
    "I would start by looking at how much time the client who did sign up spent on each step.\n",
    "If a large amount of people spend a long amount of time (compared to the task asked) on any one step, I might take a closer look at it and see if there were any problems.\n",
    "I would then look at those who did not sign up.\n",
    "\n",
    "I would find out at which step most non-customers stopped.\n",
    "If it was email and password, I might make the site more inviting to eye or better convey the benefits of our service.\n",
    "If the most frequent step was plan choice, I might better convey the options between the plans, especially if true customers spent time on it, too.\n",
    "I might also think about changing my plan options.\n",
    "If the most frequent stopping step was payment, I might consider changing the cost of my services.\n",
    "\n",
    "Of course, I would be cross referencing all of this data with the marketing data.\n",
    "This would give me a better understanding of when it would be expected for potential sign-ups to increase or decrease.\n",
    "I could also pay closer attention to the times when advertising brought potential clients who did not buy, as the site design would be more likely to be the reson they did not."
   ]
  },
  {
   "cell_type": "markdown",
   "metadata": {},
   "source": [
    "## Desgin Optimization II\n",
    "\n",
    "You work at a hotel website and currently the website ranks search results by price. \n",
    "For simplicity's sake, let's say it's a website for one city with 100 hotels. \n",
    "You are tasked with proposing a better ranking system. \n",
    "You have session information, price information for the hotels, and whether each hotel is currently available.\n",
    "\n",
    "#### Solution\n",
    "\n",
    "I would first make sure to list hotels which are currently unavailable during the user's search date at the bottom.\n",
    "Listing them anywhere near the top just wastes time.\n",
    "\n",
    "I would see how frequently any hotel's page was ending a user's session, thus resulting in a purchase.\n",
    "Then I could rank the hotels based on purchase popularity.\n",
    "I could also see how much pageviews each hotel's page has, and rank the hotels based on pageview popularity.\n",
    "\n",
    "I could order them from most to least popular to try and maximize safe sales, but that might just create a self-fulfilling loop where one hotel is always first since it's always the first seen.\n",
    "I could order them from least to most popular to try and boost sales less popular hotels, though that could hurt sales overall if the company's least desireable hotels always pop-up first."
   ]
  },
  {
   "cell_type": "markdown",
   "metadata": {},
   "source": [
    "## Social Networking\n",
    "\n",
    "You work at a social network, and the management is worried about churn (users stopping using the product). \n",
    "You are tasked with finding out if their churn is atypical. \n",
    "You have three years of data for users with an entry for every time they've logged in, including the timestamp and length of session.\n",
    "\n",
    "#### Solution\n",
    "\n",
    "Before I did anything, I would do research on social networks to get an idea of industry standards.\n",
    "I would define what period of time it took a user to become officially inactive and calcualted how often this network's users become inactive.\n",
    "Then I would see how their churn compares to theorized standard churn to see if theirs is abnormal.\n",
    "\n",
    "Beyond that, I could look to user data to look for the trends of their churn, especially if this network's churn did turn out to be more than usual.\n",
    "I could see if there is any increase in use at any particular time.\n",
    "There could be any number of events causing mass decrease in use, a competitor, bad press, site changes, etc.\n",
    "I could see if there is a trend in how long it takes for users to decreas in use to better address the problem.\n",
    "The reasons a new member stops logging in is much different than the reasons a long time user stops logging in."
   ]
  }
 ],
 "metadata": {
  "kernelspec": {
   "display_name": "Python 3",
   "language": "python",
   "name": "python3"
  },
  "language_info": {
   "codemirror_mode": {
    "name": "ipython",
    "version": 3
   },
   "file_extension": ".py",
   "mimetype": "text/x-python",
   "name": "python",
   "nbconvert_exporter": "python",
   "pygments_lexer": "ipython3",
   "version": "3.6.4"
  }
 },
 "nbformat": 4,
 "nbformat_minor": 2
}
